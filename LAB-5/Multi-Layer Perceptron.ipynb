{
 "cells": [
  {
   "cell_type": "code",
   "execution_count": 1,
   "metadata": {},
   "outputs": [],
   "source": [
    "import warnings"
   ]
  },
  {
   "cell_type": "code",
   "execution_count": 2,
   "metadata": {},
   "outputs": [],
   "source": [
    "import matplotlib.pyplot as plt\n",
    "from sklearn.datasets import fetch_openml\n",
    "from sklearn.exceptions import ConvergenceWarning\n",
    "from sklearn.neural_network import MLPClassifier\n",
    "from sklearn.metrics import classification_report, confusion_matrix"
   ]
  },
  {
   "cell_type": "code",
   "execution_count": 3,
   "metadata": {},
   "outputs": [],
   "source": [
    "# Load data from https://www.openml.org/d/554\n",
    "X, y = fetch_openml('mnist_784', version=1, return_X_y=True)\n",
    "X = X / 255."
   ]
  },
  {
   "cell_type": "code",
   "execution_count": 4,
   "metadata": {},
   "outputs": [],
   "source": [
    "# rescale the data, use the traditional train/test split\n",
    "X_train, X_test = X[:60000], X[60000:]\n",
    "y_train, y_test = y[:60000], y[60000:]"
   ]
  },
  {
   "cell_type": "code",
   "execution_count": 14,
   "metadata": {},
   "outputs": [],
   "source": [
    "# Number of layers can be given by: hidden_layer_sizes\n",
    "# For example, hidden_layer_sizes=(50, 20) means two layers with 50 and 20 units respectively.\n",
    "mlp = MLPClassifier(hidden_layer_sizes=(50,60,70), max_iter=100,\n",
    "                    solver='sgd', verbose=10, random_state=1,\n",
    "                    learning_rate_init=.1,early_stopping=True, validation_fraction=0.2,momentum=0.9)"
   ]
  },
  {
   "cell_type": "code",
   "execution_count": 15,
   "metadata": {},
   "outputs": [
    {
     "name": "stdout",
     "output_type": "stream",
     "text": [
      "Iteration 1, loss = 0.46983301\n",
      "Validation score: 0.943000\n",
      "Iteration 2, loss = 0.16394842\n",
      "Validation score: 0.949500\n",
      "Iteration 3, loss = 0.12790596\n",
      "Validation score: 0.960833\n",
      "Iteration 4, loss = 0.10746061\n",
      "Validation score: 0.964333\n",
      "Iteration 5, loss = 0.09198676\n",
      "Validation score: 0.961333\n",
      "Iteration 6, loss = 0.08299183\n",
      "Validation score: 0.964417\n",
      "Iteration 7, loss = 0.07553617\n",
      "Validation score: 0.964750\n",
      "Iteration 8, loss = 0.06676262\n",
      "Validation score: 0.963500\n",
      "Iteration 9, loss = 0.06285756\n",
      "Validation score: 0.968250\n",
      "Iteration 10, loss = 0.05497274\n",
      "Validation score: 0.968333\n",
      "Iteration 11, loss = 0.05216068\n",
      "Validation score: 0.969500\n",
      "Iteration 12, loss = 0.04886795\n",
      "Validation score: 0.969333\n",
      "Iteration 13, loss = 0.04624843\n",
      "Validation score: 0.970750\n",
      "Iteration 14, loss = 0.04258508\n",
      "Validation score: 0.970083\n",
      "Iteration 15, loss = 0.03929988\n",
      "Validation score: 0.968583\n",
      "Iteration 16, loss = 0.04049478\n",
      "Validation score: 0.971917\n",
      "Iteration 17, loss = 0.03321607\n",
      "Validation score: 0.972333\n",
      "Iteration 18, loss = 0.03260126\n",
      "Validation score: 0.970917\n",
      "Iteration 19, loss = 0.03172551\n",
      "Validation score: 0.972667\n",
      "Iteration 20, loss = 0.03116014\n",
      "Validation score: 0.970750\n",
      "Iteration 21, loss = 0.02873393\n",
      "Validation score: 0.971000\n",
      "Iteration 22, loss = 0.03160080\n",
      "Validation score: 0.969833\n",
      "Iteration 23, loss = 0.02979186\n",
      "Validation score: 0.971750\n",
      "Iteration 24, loss = 0.02656776\n",
      "Validation score: 0.971917\n",
      "Iteration 25, loss = 0.01878128\n",
      "Validation score: 0.971167\n",
      "Iteration 26, loss = 0.02187620\n",
      "Validation score: 0.971000\n",
      "Iteration 27, loss = 0.02306779\n",
      "Validation score: 0.971083\n",
      "Iteration 28, loss = 0.02374405\n",
      "Validation score: 0.971500\n",
      "Iteration 29, loss = 0.02397517\n",
      "Validation score: 0.969667\n",
      "Iteration 30, loss = 0.02170235\n",
      "Validation score: 0.972917\n",
      "Iteration 31, loss = 0.02330916\n",
      "Validation score: 0.969000\n",
      "Iteration 32, loss = 0.02535569\n",
      "Validation score: 0.971500\n",
      "Iteration 33, loss = 0.02194523\n",
      "Validation score: 0.965917\n",
      "Iteration 34, loss = 0.02094282\n",
      "Validation score: 0.968417\n",
      "Iteration 35, loss = 0.02155351\n",
      "Validation score: 0.970333\n",
      "Iteration 36, loss = 0.01905337\n",
      "Validation score: 0.972667\n",
      "Iteration 37, loss = 0.01933325\n",
      "Validation score: 0.973583\n",
      "Iteration 38, loss = 0.01782518\n",
      "Validation score: 0.969333\n",
      "Iteration 39, loss = 0.01467954\n",
      "Validation score: 0.971833\n",
      "Iteration 40, loss = 0.01476291\n",
      "Validation score: 0.970917\n",
      "Iteration 41, loss = 0.01793433\n",
      "Validation score: 0.970417\n",
      "Iteration 42, loss = 0.01449347\n",
      "Validation score: 0.970333\n",
      "Iteration 43, loss = 0.02013242\n",
      "Validation score: 0.971500\n",
      "Iteration 44, loss = 0.01753041\n",
      "Validation score: 0.969667\n",
      "Iteration 45, loss = 0.02336989\n",
      "Validation score: 0.970583\n",
      "Iteration 46, loss = 0.01798860\n",
      "Validation score: 0.971250\n",
      "Iteration 47, loss = 0.01575949\n",
      "Validation score: 0.969583\n",
      "Iteration 48, loss = 0.01264618\n",
      "Validation score: 0.972083\n",
      "Validation score did not improve more than tol=0.000100 for 10 consecutive epochs. Stopping.\n"
     ]
    }
   ],
   "source": [
    "# Catch the warnings and are ignore it here\n",
    "with warnings.catch_warnings():\n",
    "    warnings.filterwarnings(\"ignore\", category=ConvergenceWarning,\n",
    "                            module=\"sklearn\")\n",
    "    mlp.fit(X_train, y_train)"
   ]
  },
  {
   "cell_type": "markdown",
   "metadata": {},
   "source": [
    "### Values of the arguments\n",
    "<ol> \n",
    "    <li>hidden_layer_sizes=(50, 60, 70), </li>\n",
    "    <li>max_iter=100,</li>\n",
    "    <li>learning_rate_init=.1,</li>\n",
    "    <li>validation_fraction=0.2,</li>\n",
    "    <li>momentum=0.9</li>\n",
    "</ol>"
   ]
  },
  {
   "cell_type": "code",
   "execution_count": 16,
   "metadata": {},
   "outputs": [
    {
     "name": "stdout",
     "output_type": "stream",
     "text": [
      "Confusion Matrix:\n",
      "[[ 970    0    4    1    1    0    2    1    1    0]\n",
      " [   0 1128    1    1    0    0    1    1    2    1]\n",
      " [   3    1 1010    4    3    0    2    5    4    0]\n",
      " [   0    0    6  991    0    4    0    3    5    1]\n",
      " [   1    0    5    0  955    1    3    5    1   11]\n",
      " [   6    0    1   13    1  852    8    1    6    4]\n",
      " [   7    1    3    1    4    1  936    0    4    1]\n",
      " [   2    3   10   13    0    0    0  986    5    9]\n",
      " [   4    3   11   11    4    6    3    1  927    4]\n",
      " [   4    4    0   11   10    2    0    7    5  966]]\n",
      "\n",
      "Classification Report:\n",
      "              precision    recall  f1-score   support\n",
      "\n",
      "           0       0.97      0.99      0.98       980\n",
      "           1       0.99      0.99      0.99      1135\n",
      "           2       0.96      0.98      0.97      1032\n",
      "           3       0.95      0.98      0.96      1010\n",
      "           4       0.98      0.97      0.97       982\n",
      "           5       0.98      0.96      0.97       892\n",
      "           6       0.98      0.98      0.98       958\n",
      "           7       0.98      0.96      0.97      1028\n",
      "           8       0.97      0.95      0.96       974\n",
      "           9       0.97      0.96      0.96      1009\n",
      "\n",
      "    accuracy                           0.97     10000\n",
      "   macro avg       0.97      0.97      0.97     10000\n",
      "weighted avg       0.97      0.97      0.97     10000\n",
      "\n"
     ]
    }
   ],
   "source": [
    "#producing the confusion matrix and the Classification report\n",
    "y_pred = mlp.predict(X_test)\n",
    "conf_m = confusion_matrix(y_test, y_pred)\n",
    "print('Confusion Matrix:', conf_m, sep='\\n', end='\\n\\n')\n",
    "report = classification_report(y_test, y_pred)\n",
    "print('Classification Report:', report, sep='\\n')"
   ]
  },
  {
   "cell_type": "code",
   "execution_count": null,
   "metadata": {},
   "outputs": [],
   "source": []
  },
  {
   "cell_type": "code",
   "execution_count": null,
   "metadata": {},
   "outputs": [],
   "source": []
  }
 ],
 "metadata": {
  "kernelspec": {
   "display_name": "Python 3",
   "language": "python",
   "name": "python3"
  },
  "language_info": {
   "codemirror_mode": {
    "name": "ipython",
    "version": 3
   },
   "file_extension": ".py",
   "mimetype": "text/x-python",
   "name": "python",
   "nbconvert_exporter": "python",
   "pygments_lexer": "ipython3",
   "version": "3.6.9"
  }
 },
 "nbformat": 4,
 "nbformat_minor": 4
}
